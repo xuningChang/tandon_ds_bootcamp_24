{
 "cells": [
  {
   "cell_type": "markdown",
   "metadata": {},
   "source": [
    "1. How do you assess the statistical significance of an insight?\n",
    "   + Define null hypothesis and alternate hypothesis\n",
    "   + Collect data\n",
    "   + Select a statistical test based on data and research question\n",
    "   + Choose significance level\n",
    "   + Compute p-value and compare to alpha\n",
    "2. What is the Central Limit Theorem? Explain it. Why is it important?\n",
    "   The Central Limit Theorem states that the sampling distribution of the sample mean (or sum) of a sufficiently large number of independent and identically distributed (i.i.d.) random variables, regardless of the original distribution, will be approximately normally distributed. This holds true as long as the sample size is large enough (typically n>30n>30).\n",
    "   It is important because it justify normal distribution assumption\n",
    "3. What is the statistical power?\n",
    "   It is the probability that a test correctly rejects a false null hypothesis.\n",
    "4. How do you control for biases?\n",
    "   + Randomization\n",
    "   + Double blind\n",
    "   + Regression analysis\n",
    "5. What are confounding variables?\n",
    "   Confounding variables are extraneous variables that correlate with both the dependent variable and the independent variable, potentially leading to a spurious association. They can obscure the true relationship between variables and need to be controlled to ensure valid conclusions.\n",
    "6. What is A/B testing?\n",
    "   A/B testing is an experimental approach used to compare two versions of a variable to determine which one performs better. The two versions (A and B) are randomly assigned to subjects, and their performance is measured. Statistical analysis is then used to determine if there is a significant difference between the two versions.\n",
    "7. What are confidence intervals?\n",
    "   A confidence interval (CI) is a range of values, derived from the sample data, that is likely to contain the population parameter (e.g., mean, proportion) with a specified level of confidence (e.g., 95%). It provides an estimate of the parameter and reflects the uncertainty associated with the sample data. For example, a 95% CI means that if you were to take 100 different samples and compute a CI for each sample, approximately 95 of the 100 CIs would contain the true population parameter."
   ]
  }
 ],
 "metadata": {
  "language_info": {
   "name": "python"
  }
 },
 "nbformat": 4,
 "nbformat_minor": 2
}
